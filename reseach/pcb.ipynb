{
 "cells": [
  {
   "cell_type": "code",
   "execution_count": 2,
   "metadata": {},
   "outputs": [],
   "source": [
    "# https://github.com/isabek/XmlToTxt\n",
    "import os\n",
    "os.chdir(r\"C:\\Users\\mouni\\Desktop\\pcb\\XmlToTxt\")\n",
    "!python xmltotxt.py -c classes.txt -xml xml -out out"
   ]
  },
  {
   "cell_type": "code",
   "execution_count": 4,
   "metadata": {},
   "outputs": [
    {
     "data": {
      "text/plain": [
       "'C:\\\\Users\\\\mouni\\\\Desktop\\\\pcb'"
      ]
     },
     "execution_count": 4,
     "metadata": {},
     "output_type": "execute_result"
    }
   ],
   "source": [
    "os.chdir(r\"C:\\Users\\mouni\\Desktop\\pcb\")\n",
    "os.getcwd()"
   ]
  },
  {
   "cell_type": "code",
   "execution_count": 5,
   "metadata": {},
   "outputs": [],
   "source": [
    "import os\n",
    "from random import choice\n",
    "import shutil\n",
    "def to_v5_directories(images_train_path,images_val_path,labels_train_path,labels_val_path, dataset_source):\n",
    "    imgs =[]\n",
    "    xmls =[]\n",
    "    trainPath = images_train_path\n",
    "    valPath =  images_val_path\n",
    "    crsPath = dataset_source\n",
    "    train_ratio = 0.8\n",
    "    val_ratio = 0.2\n",
    "    totalImgCount = len(os.listdir(crsPath))/2\n",
    "    for (dirname, dirs, files) in os.walk(crsPath):\n",
    "        for filename in files:\n",
    "            if filename.endswith('.txt'):\n",
    "                xmls.append(filename)\n",
    "            else:\n",
    "                imgs.append(filename)\n",
    "    countForTrain = int(len(imgs)*train_ratio)\n",
    "    countForVal = int(len(imgs)*val_ratio)\n",
    "    trainimagePath = images_train_path\n",
    "    trainlabelPath = labels_train_path\n",
    "    valimagePath = images_val_path\n",
    "    vallabelPath = labels_val_path\n",
    "    for x in range(countForTrain):\n",
    "        fileJpg = choice(imgs)\n",
    "        fileXml = fileJpg[:-4] +'.txt'\n",
    "        shutil.copy(os.path.join(crsPath, fileJpg), os.path.join(trainimagePath, fileJpg))\n",
    "        shutil.copy(os.path.join(crsPath, fileXml), os.path.join(trainlabelPath, fileXml))\n",
    "        imgs.remove(fileJpg)\n",
    "        xmls.remove(fileXml)\n",
    "    for x in range(countForVal):\n",
    "        fileJpg = choice(imgs) \n",
    "        fileXml = fileJpg[:-4] +'.txt' \n",
    "        shutil.copy(os.path.join(crsPath, fileJpg), os.path.join(valimagePath, fileJpg))\n",
    "        shutil.copy(os.path.join(crsPath, fileXml), os.path.join(vallabelPath, fileXml))\n",
    "        imgs.remove(fileJpg)\n",
    "        xmls.remove(fileXml)\n",
    "    print(\"Training images are : \",countForTrain)\n",
    "    print(\"Validation images are : \",countForVal)\n",
    "#     shutil.move(crsPath, valPath)"
   ]
  },
  {
   "cell_type": "code",
   "execution_count": 6,
   "metadata": {},
   "outputs": [
    {
     "name": "stdout",
     "output_type": "stream",
     "text": [
      "Training images are :  92\n",
      "Validation images are :  23\n"
     ]
    }
   ],
   "source": [
    "to_v5_directories(\"dataset/images/train\",\"dataset/images/val\",\"dataset/labels/train\",\"dataset/labels/val\", \"Annotations/Missing_hole\")"
   ]
  },
  {
   "cell_type": "code",
   "execution_count": 7,
   "metadata": {},
   "outputs": [
    {
     "name": "stdout",
     "output_type": "stream",
     "text": [
      "Training images are :  92\n",
      "Validation images are :  23\n"
     ]
    }
   ],
   "source": [
    "to_v5_directories(\"dataset/images/train\",\"dataset/images/val\",\"dataset/labels/train\",\"dataset/labels/val\", \"Annotations/mouse_bite\")"
   ]
  },
  {
   "cell_type": "code",
   "execution_count": 8,
   "metadata": {},
   "outputs": [
    {
     "name": "stdout",
     "output_type": "stream",
     "text": [
      "Training images are :  92\n",
      "Validation images are :  23\n"
     ]
    }
   ],
   "source": [
    "to_v5_directories(\"dataset/images/train\",\"dataset/images/val\",\"dataset/labels/train\",\"dataset/labels/val\", \"Annotations/open_circuit\")"
   ]
  },
  {
   "cell_type": "code",
   "execution_count": 9,
   "metadata": {},
   "outputs": [
    {
     "name": "stdout",
     "output_type": "stream",
     "text": [
      "Training images are :  92\n",
      "Validation images are :  23\n"
     ]
    }
   ],
   "source": [
    "to_v5_directories(\"dataset/images/train\",\"dataset/images/val\",\"dataset/labels/train\",\"dataset/labels/val\", \"Annotations/short\")"
   ]
  },
  {
   "cell_type": "code",
   "execution_count": 10,
   "metadata": {},
   "outputs": [
    {
     "name": "stdout",
     "output_type": "stream",
     "text": [
      "Training images are :  92\n",
      "Validation images are :  23\n"
     ]
    }
   ],
   "source": [
    "to_v5_directories(\"dataset/images/train\",\"dataset/images/val\",\"dataset/labels/train\",\"dataset/labels/val\", \"Annotations/spur\")"
   ]
  },
  {
   "cell_type": "code",
   "execution_count": 11,
   "metadata": {},
   "outputs": [
    {
     "name": "stdout",
     "output_type": "stream",
     "text": [
      "Training images are :  92\n",
      "Validation images are :  23\n"
     ]
    }
   ],
   "source": [
    "to_v5_directories(\"dataset/images/train\",\"dataset/images/val\",\"dataset/labels/train\",\"dataset/labels/val\", \"Annotations/spurious_copper\")"
   ]
  },
  {
   "cell_type": "code",
   "execution_count": null,
   "metadata": {},
   "outputs": [],
   "source": []
  },
  {
   "cell_type": "markdown",
   "metadata": {},
   "source": [
    "training"
   ]
  },
  {
   "cell_type": "markdown",
   "metadata": {},
   "source": [
    "# !python train.py --img 416 --batch 16 --epochs 20 --data dataset.yaml --weights yolov5s.pt --cache --name "
   ]
  },
  {
   "cell_type": "markdown",
   "metadata": {},
   "source": [
    "validation"
   ]
  },
  {
   "cell_type": "markdown",
   "metadata": {},
   "source": [
    "# !python val.py --weights  --data dataset.yaml "
   ]
  },
  {
   "cell_type": "markdown",
   "metadata": {},
   "source": []
  },
  {
   "cell_type": "markdown",
   "metadata": {},
   "source": [
    "Detection"
   ]
  },
  {
   "cell_type": "markdown",
   "metadata": {},
   "source": [
    "# !python detect.py --source ../test_images/test_1.jpg  --weights  runs/train/mask_i416_b16_e20_v5s/weights/best.pt"
   ]
  },
  {
   "cell_type": "markdown",
   "metadata": {},
   "source": []
  }
 ],
 "metadata": {
  "kernelspec": {
   "display_name": "Python 3",
   "language": "python",
   "name": "python3"
  },
  "language_info": {
   "codemirror_mode": {
    "name": "ipython",
    "version": 3
   },
   "file_extension": ".py",
   "mimetype": "text/x-python",
   "name": "python",
   "nbconvert_exporter": "python",
   "pygments_lexer": "ipython3",
   "version": "3.9.0"
  },
  "orig_nbformat": 4
 },
 "nbformat": 4,
 "nbformat_minor": 2
}
